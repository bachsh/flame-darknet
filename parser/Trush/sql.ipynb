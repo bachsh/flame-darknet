{
 "cells": [
  {
   "cell_type": "code",
   "execution_count": 31,
   "metadata": {
    "collapsed": true
   },
   "outputs": [],
   "source": [
    "from sqlalchemy import create_engine\n",
    "engine = create_engine('sqlite:///db.sql', echo=True)\n",
    "\n",
    "from sqlalchemy.ext.declarative import declarative_base\n",
    "Base = declarative_base()\n",
    "\n",
    "from sqlalchemy import Column, Integer, String\n",
    "class Post(Base):\n",
    "    __tablename__ = 'posts'\n",
    "    id = Column(Integer, primary_key=True)\n",
    "    topic_content = Column(String)\n",
    "    post_content = Column(String)\n",
    "    post_authar = Column(String)\n",
    "    url = Column(String)\n",
    "    def __repr__(self):\n",
    "        return \"<Post(topic_content='%s', post_content='%s', post_authar='%s', url='%s')>\" % (self.topic_content, self.post_content, self.post_authar, self.url)\n",
    "    "
   ]
  },
  {
   "cell_type": "code",
   "execution_count": 32,
   "metadata": {},
   "outputs": [
    {
     "name": "stdout",
     "output_type": "stream",
     "text": [
      "2017-11-24 16:49:36,554 INFO sqlalchemy.engine.base.Engine SELECT CAST('test plain returns' AS VARCHAR(60)) AS anon_1\n",
      "2017-11-24 16:49:36,556 INFO sqlalchemy.engine.base.Engine ()\n",
      "2017-11-24 16:49:36,558 INFO sqlalchemy.engine.base.Engine SELECT CAST('test unicode returns' AS VARCHAR(60)) AS anon_1\n",
      "2017-11-24 16:49:36,559 INFO sqlalchemy.engine.base.Engine ()\n",
      "2017-11-24 16:49:36,561 INFO sqlalchemy.engine.base.Engine PRAGMA table_info(\"posts\")\n",
      "2017-11-24 16:49:36,563 INFO sqlalchemy.engine.base.Engine ()\n",
      "2017-11-24 16:49:36,565 INFO sqlalchemy.engine.base.Engine \n",
      "CREATE TABLE posts (\n",
      "\tid INTEGER NOT NULL, \n",
      "\ttopic_content VARCHAR, \n",
      "\tpost_content VARCHAR, \n",
      "\tpost_authar VARCHAR, \n",
      "\tPRIMARY KEY (id)\n",
      ")\n",
      "\n",
      "\n",
      "2017-11-24 16:49:36,567 INFO sqlalchemy.engine.base.Engine ()\n",
      "2017-11-24 16:49:36,570 INFO sqlalchemy.engine.base.Engine COMMIT\n"
     ]
    }
   ],
   "source": [
    "Base.metadata.create_all(engine)"
   ]
  },
  {
   "cell_type": "code",
   "execution_count": 33,
   "metadata": {
    "collapsed": true
   },
   "outputs": [],
   "source": [
    "from sqlalchemy.orm import sessionmaker\n",
    "Session = sessionmaker(bind=engine)\n",
    "session = Session()\n",
    "test_post = Post(topic_content='XXX', post_content='XXX', post_authar='XXX')\n",
    "session.add(test_post)"
   ]
  },
  {
   "cell_type": "code",
   "execution_count": 19,
   "metadata": {},
   "outputs": [
    {
     "name": "stdout",
     "output_type": "stream",
     "text": [
      "2017-11-24 02:56:05,525 INFO sqlalchemy.engine.base.Engine BEGIN (implicit)\n",
      "2017-11-24 02:56:05,528 INFO sqlalchemy.engine.base.Engine INSERT INTO posts (topic_content, post_content, post_authar) VALUES (?, ?, ?)\n",
      "2017-11-24 02:56:05,530 INFO sqlalchemy.engine.base.Engine ('XXX', 'XXX', 'XXX')\n",
      "2017-11-24 02:56:05,532 INFO sqlalchemy.engine.base.Engine SELECT posts.id AS posts_id, posts.topic_content AS posts_topic_content, posts.post_content AS posts_post_content, posts.post_authar AS posts_post_authar \n",
      "FROM posts\n",
      " LIMIT ? OFFSET ?\n",
      "2017-11-24 02:56:05,534 INFO sqlalchemy.engine.base.Engine (1, 0)\n"
     ]
    },
    {
     "data": {
      "text/plain": [
       "<Post(topic_content='XXX', post_content='XXX', post_authar='XXX')>"
      ]
     },
     "execution_count": 19,
     "metadata": {},
     "output_type": "execute_result"
    }
   ],
   "source": [
    "test_post = session.query(Post).first() \n",
    "test_post"
   ]
  },
  {
   "cell_type": "code",
   "execution_count": 29,
   "metadata": {
    "collapsed": true
   },
   "outputs": [],
   "source": [
    "session.add_all([\n",
    "    Post(topic_content='XXX', post_content='XXX 2', post_authar='XXX'),\n",
    "    Post(topic_content='XXX', post_content='XXX 3', post_authar='XXX'),\n",
    "    Post(topic_content='XXX', post_content='XXX 4', post_authar='XXX')])"
   ]
  },
  {
   "cell_type": "code",
   "execution_count": 34,
   "metadata": {},
   "outputs": [
    {
     "name": "stdout",
     "output_type": "stream",
     "text": [
      "2017-11-24 16:50:04,568 INFO sqlalchemy.engine.base.Engine BEGIN (implicit)\n",
      "2017-11-24 16:50:04,571 INFO sqlalchemy.engine.base.Engine INSERT INTO posts (topic_content, post_content, post_authar) VALUES (?, ?, ?)\n",
      "2017-11-24 16:50:04,573 INFO sqlalchemy.engine.base.Engine ('XXX', 'XXX', 'XXX')\n",
      "2017-11-24 16:50:04,576 INFO sqlalchemy.engine.base.Engine SELECT posts.id AS posts_id, posts.topic_content AS posts_topic_content, posts.post_content AS posts_post_content, posts.post_authar AS posts_post_authar \n",
      "FROM posts ORDER BY posts.id\n",
      "2017-11-24 16:50:04,577 INFO sqlalchemy.engine.base.Engine ()\n",
      "XXX XXX\n"
     ]
    }
   ],
   "source": [
    "for instance in session.query(Post).order_by(Post.id):\n",
    "    print instance.topic_content, instance.post_content\n",
    "    #print(instance)"
   ]
  },
  {
   "cell_type": "code",
   "execution_count": null,
   "metadata": {
    "collapsed": true
   },
   "outputs": [],
   "source": []
  },
  {
   "cell_type": "code",
   "execution_count": null,
   "metadata": {
    "collapsed": true
   },
   "outputs": [],
   "source": []
  }
 ],
 "metadata": {
  "kernelspec": {
   "display_name": "Python 2",
   "language": "python",
   "name": "python2"
  },
  "language_info": {
   "codemirror_mode": {
    "name": "ipython",
    "version": 2
   },
   "file_extension": ".py",
   "mimetype": "text/x-python",
   "name": "python",
   "nbconvert_exporter": "python",
   "pygments_lexer": "ipython2",
   "version": "2.7.14"
  }
 },
 "nbformat": 4,
 "nbformat_minor": 2
}
